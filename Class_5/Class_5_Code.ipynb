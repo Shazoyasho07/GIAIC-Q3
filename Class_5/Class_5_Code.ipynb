{
  "nbformat": 4,
  "nbformat_minor": 0,
  "metadata": {
    "colab": {
      "provenance": []
    },
    "kernelspec": {
      "name": "python3",
      "display_name": "Python 3"
    },
    "language_info": {
      "name": "python"
    }
  },
  "cells": [
    {
      "cell_type": "code",
      "execution_count": null,
      "metadata": {
        "colab": {
          "base_uri": "https://localhost:8080/"
        },
        "id": "NYusq7oJxn0W",
        "outputId": "37a4aadf-0ac0-49ae-e36b-076b459e97e6"
      },
      "outputs": [
        {
          "output_type": "stream",
          "name": "stdout",
          "text": [
            "Successfully run 5.0\n"
          ]
        }
      ],
      "source": [
        "def divide_number(a, b):\n",
        "    try:\n",
        "        result = a / b\n",
        "    except ZeroDivisionError:\n",
        "        print(\"Bhai sahab number 0 se divide nh hota\")\n",
        "    except TypeError:\n",
        "        print(\"Bhai pizza se number divide nh hota !\")\n",
        "    else:\n",
        "        print(f\"Successfully run {result}\")\n",
        "\n",
        "divide_number(10, 2)\n"
      ]
    },
    {
      "cell_type": "code",
      "source": [
        "try:\n",
        "    num1 = int(input(\"Enter num1: \"))\n",
        "    num2 = int(input(\"Enter num1: \"))\n",
        "    result = num1 / num2\n",
        "except ValueError:\n",
        "    print(\"Bhai sahab sirf Number dalain !\")\n",
        "else:\n",
        "    print(f\"Successfully run {result}\")\n",
        "finally:\n",
        "    print(\"Run in every conditon !\")\n"
      ],
      "metadata": {
        "colab": {
          "base_uri": "https://localhost:8080/"
        },
        "id": "5taVFFX8y_kl",
        "outputId": "1205485c-f990-42e6-8c91-ccbddbf2f63a"
      },
      "execution_count": null,
      "outputs": [
        {
          "output_type": "stream",
          "name": "stdout",
          "text": [
            "Enter num1: 10\n",
            "Enter num1: 2\n",
            "Successfully run 5.0\n",
            "Run in every conditon !\n"
          ]
        }
      ]
    },
    {
      "cell_type": "code",
      "source": [
        "num1 = int(input(\"Enter first number :\"))\n",
        "num2 = int(input(\"Enter second number :\"))\n",
        "\n",
        "print(num1 / num2)\n"
      ],
      "metadata": {
        "colab": {
          "base_uri": "https://localhost:8080/",
          "height": 211
        },
        "id": "5oDRvSbazxpq",
        "outputId": "939b94ec-6738-42d3-f1be-87aefb1cc9a3"
      },
      "execution_count": null,
      "outputs": [
        {
          "name": "stdout",
          "output_type": "stream",
          "text": [
            "Enter first number :70\n",
            "Enter second number :0\n"
          ]
        },
        {
          "output_type": "error",
          "ename": "ZeroDivisionError",
          "evalue": "division by zero",
          "traceback": [
            "\u001b[0;31m---------------------------------------------------------------------------\u001b[0m",
            "\u001b[0;31mZeroDivisionError\u001b[0m                         Traceback (most recent call last)",
            "\u001b[0;32m<ipython-input-4-aa985fb02642>\u001b[0m in \u001b[0;36m<cell line: 0>\u001b[0;34m()\u001b[0m\n\u001b[1;32m      2\u001b[0m \u001b[0mnum2\u001b[0m \u001b[0;34m=\u001b[0m \u001b[0mint\u001b[0m\u001b[0;34m(\u001b[0m\u001b[0minput\u001b[0m\u001b[0;34m(\u001b[0m\u001b[0;34m\"Enter second number :\"\u001b[0m\u001b[0;34m)\u001b[0m\u001b[0;34m)\u001b[0m\u001b[0;34m\u001b[0m\u001b[0;34m\u001b[0m\u001b[0m\n\u001b[1;32m      3\u001b[0m \u001b[0;34m\u001b[0m\u001b[0m\n\u001b[0;32m----> 4\u001b[0;31m \u001b[0mprint\u001b[0m\u001b[0;34m(\u001b[0m\u001b[0mnum1\u001b[0m \u001b[0;34m/\u001b[0m \u001b[0mnum2\u001b[0m\u001b[0;34m)\u001b[0m\u001b[0;34m\u001b[0m\u001b[0;34m\u001b[0m\u001b[0m\n\u001b[0m",
            "\u001b[0;31mZeroDivisionError\u001b[0m: division by zero"
          ]
        }
      ]
    },
    {
      "cell_type": "code",
      "source": [
        "class Namaz_Not_Offered_Error(Exception):\n",
        "    pass\n",
        "\n",
        "def eat_sheer_khurma(is_Namaz: bool):\n",
        "    if(is_Namaz):\n",
        "        print(\"Sheer khurma mil jaega !\")\n",
        "    else:\n",
        "        raise Namaz_Not_Offered_Error(\"Namaz prh kr ayain!\")\n",
        "\n",
        "try:\n",
        "    eat_sheer_khurma(False)\n",
        "except Namaz_Not_Offered_Error as error_message:\n",
        "    print(error_message)\n"
      ],
      "metadata": {
        "colab": {
          "base_uri": "https://localhost:8080/"
        },
        "id": "yayKE4OVz13G",
        "outputId": "e077e4d7-2074-4aaf-9c48-18d2d9dea43d"
      },
      "execution_count": null,
      "outputs": [
        {
          "output_type": "stream",
          "name": "stdout",
          "text": [
            "Namaz prh kr ayain!\n"
          ]
        }
      ]
    }
  ]
}
