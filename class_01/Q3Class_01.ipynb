
      "outputs": [
        {
          "output_type": "stream",
          "name": "stdout",
          "text": [
            "<class 'str'>\n"
          ]
        }
      ]
    },
    {
      "cell_type": "code",
      "source": [
        "float_number: float = 9.789\n",
        "print(type(float_number))"
      ],
      "metadata": {
        "colab": {
          "base_uri": "https://localhost:8080/"
        },
        "id": "ejl1_aW7iYwD",
        "outputId": "bfc1c08a-0c63-49a8-9320-4792dadc07b6"
      },
      "execution_count": 3,
      "outputs": [
        {
          "output_type": "stream",
          "name": "stdout",
          "text": [
            "<class 'float'>\n"
          ]
        }
      ]
    },
    {
      "cell_type": "code",
      "source": [
        "is_teacher: bool = True\n",
        "print(type(is_teacher))"
      ],
      "metadata": {
        "colab": {
          "base_uri": "https://localhost:8080/"
        },
        "id": "E8a4D4XkjBY-",
        "outputId": "2883c784-3137-4e04-8d7f-641ddf604092"
      },
      "execution_count": 4,
      "outputs": [
        {
          "output_type": "stream",
          "name": "stdout",
          "text": [
            "<class 'bool'>\n"
          ]
        }
      ]
    },
    {
      "cell_type": "code",
      "source": [
        "first_name: str = \"Shahzeen\"\n",
        "last_name: str = \"Yaseen\"\n",
        "\n",
        "full_name: str = first_name + \" \" + last_name\n",
        "\n",
        "print(full_name)"
      ],
      "metadata": {
        "colab": {
          "base_uri": "https://localhost:8080/"
        },
        "id": "agvOiAVqjat6",
        "outputId": "1e7e55de-8f6b-4a3c-a530-fe17063da6b2"
      },
      "execution_count": 5,
      "outputs": [
        {
          "output_type": "stream",
          "name": "stdout",
          "text": [
            "Shahzeen Yaseen\n"
          ]
        }
      ]
    },
    {
      "cell_type": "code",
      "source": [],
      "metadata": {
        "id": "kXtovlItkRg_"
      },
      "execution_count": null,
      "outputs": []
    },
    {
      "cell_type": "code",
      "source": [
        "first_name: str = \"Shahzeen\"\n",
        "last_name: str = \"Yaseen\"\n",
        "\n",
        "full_name: str = f\"{first_name} {last_name}\"\n",
        "\n",
        "print(full_name)"
      ],
      "metadata": {
        "colab": {
          "base_uri": "https://localhost:8080/"
        },
        "outputId": "9432e743-f1a8-4ac9-cd91-b6e60ce432ef",
        "id": "LlJ6lapzklLh"
      },
      "execution_count": 6,
      "outputs": [
        {
          "output_type": "stream",
          "name": "stdout",
          "text": [
            "Shahzeen Yaseen\n"
          ]
        }
      ]
    },
    {
      "cell_type": "code",
      "source": [
        "achievement: str =\"\"\"Thrilled to share i'm passing Q2 exams!\"\"\"\n",
        "print(achievement)"
      ],
      "metadata": {
        "colab": {
          "base_uri": "https://localhost:8080/"
        },
        "id": "Y4aR_Co1lFB0",
        "outputId": "53d94a8c-79e0-45cc-a20b-e109c76e8cd5"
      },
      "execution_count": 12,
      "outputs": [
        {
          "output_type": "stream",
          "name": "stdout",
          "text": [
            "Thrilled to share i'm passing Q2 exams!\n"
          ]
        }
      ]
    },
    {
      "cell_type": "code",
      "source": [],
      "metadata": {
        "id": "PeSNkaynnHF6"
      },
      "execution_count": null,
      "outputs": []
    },
    {
      "cell_type": "code",
      "source": [
        "achievement: str =\"Thrilled to share i'm passing Q2 exams!\"\n",
        "print(type(achievement))"
      ],
      "metadata": {
        "colab": {
          "base_uri": "https://localhost:8080/"
        },
        "outputId": "a17a3ce7-cfde-494f-a9be-e7ee5b2f354f",
        "id": "23PSFGxOnI_w"
      },
      "execution_count": 26,
      "outputs": [
        {
          "output_type": "stream",
          "name": "stdout",
          "text": [
            "<class 'str'>\n"
          ]
        }
      ]
    },
    {
      "cell_type": "code",
      "source": [
        "quarter: str = \"Q3\"\n"
      ],
      "metadata": {
        "id": "kC4HS4p6ntYv"
      },
      "execution_count": 17,
      "outputs": []
    },
    {
      "cell_type": "code",
      "source": [
        "achievement: str =f\"\"\"Thrilled to share i'm passing {quarter} exams!\"\"\"\n",
        "print(quarter)"
      ],
      "metadata": {
        "colab": {
          "base_uri": "https://localhost:8080/"
        },
        "outputId": "c9782839-88fd-463c-e97a-800448ef87e7",
        "id": "RkcSBDKin5KF"
      },
      "execution_count": 18,
      "outputs": [
        {
          "output_type": "stream",
          "name": "stdout",
          "text": [
            "Q3\n"
          ]
        }
      ]
    },
    {
      "cell_type": "code",
      "source": [
        "quarter: str = \"Q3\""
      ],
      "metadata": {
        "id": "Y5pCWe8UooY6"
      },
      "execution_count": 24,
      "outputs": []
    },
    {
      "cell_type": "code",
      "source": [
        "achievement: str =f\"\"\"Thrilled to share i'm passing {quarter} exams!\"\"\"\n",
        "print(id(achievement))"
      ],
      "metadata": {
        "colab": {
          "base_uri": "https://localhost:8080/"
        },
        "outputId": "2276b5ca-c9f3-42e5-f44e-6c012565f5d1",
        "id": "ZkfDGfdhotAH"
      },
      "execution_count": 19,
      "outputs": [
        {
          "output_type": "stream",
          "name": "stdout",
          "text": [
            "139471915318992\n"
          ]
        }
      ]
    },
    {
      "cell_type": "code",
      "source": [
        "fruits = [\"Orange\",\"Strawberry\",\"Banana\"]\n",
        "print(len(fruits))"
      ],
      "metadata": {
        "colab": {
          "base_uri": "https://localhost:8080/"
        },
        "id": "rjujPTEGp8KI",
        "outputId": "e0b0a6de-a75c-4a9c-ee37-710149c2e7e0"
      },
      "execution_count": 27,
      "outputs": [
        {
          "output_type": "stream",
          "name": "stdout",
          "text": [
            "3\n"
          ]
        }
      ]
    },
    {
      "cell_type": "code",
      "source": [
        "fruits = [\"Orange\",\"Strawberry\",\"Banana\"]\n",
        "print(fruits)"
      ],
      "metadata": {
        "colab": {
          "base_uri": "https://localhost:8080/"
        },
        "id": "XdigljLGqv0l",
        "outputId": "9bfa4a09-23cb-47c8-c23b-7c811f012a51"
      },
      "execution_count": 28,
      "outputs": [
        {
          "output_type": "stream",
          "name": "stdout",
          "text": [
            "['Orange', 'Strawberry', 'Banana']\n"
          ]
        }
      ]
    },
    {
      "cell_type": "code",
      "source": [
        "fruits = [\"Orange\",\"Strawberry\",\"Banana\"]\n",
        "print(fruits[1])"
      ],
      "metadata": {
        "colab": {
          "base_uri": "https://localhost:8080/"
        },
        "id": "uxMmvzhkq5L6",
        "outputId": "e4967b25-2d8f-495b-8e9e-63229b63fb7b"
      },
      "execution_count": 29,
      "outputs": [
        {
          "output_type": "stream",
          "name": "stdout",
          "text": [
            "Strawberry\n"
          ]
        }
      ]
    },
    {
      "cell_type": "code",
      "source": [
        "fruits = [\"Orange\",\"Strawberry\",\"Banana\"]\n",
        "print(fruits[0:2])"
      ],
      "metadata": {
        "colab": {
          "base_uri": "https://localhost:8080/"
        },
        "id": "xqR8P4LCrG2K",
        "outputId": "0b4ef3de-c89a-47ac-ef04-377fac502d12"
      },
      "execution_count": 31,
      "outputs": [
        {
          "output_type": "stream",
          "name": "stdout",
          "text": [
            "['Orange', 'Strawberry']\n"
          ]
        }
      ]
    },
    {
      "cell_type": "code",
      "source": [
        "a: int = 10\n",
        "b: int = 20\n",
        "\n",
        "print(a + b)\n",
        "print(a - b)\n",
        "print(a * b)\n",
        "print(a / b)\n",
        "print(a // b)"
      ],
      "metadata": {
        "colab": {
          "base_uri": "https://localhost:8080/"
        },
        "id": "IT6klriergeG",
        "outputId": "9f46fe1e-3614-45cb-a4a7-4e3528293efb"
      },
      "execution_count": 38,
      "outputs": [
        {
          "output_type": "stream",
          "name": "stdout",
          "text": [
            "30\n",
            "-10\n",
            "200\n",
            "0.5\n",
            "0\n"
          ]
        }
      ]
    },
    {
      "cell_type": "markdown",
      "source": [],
      "metadata": {
        "id": "UsAMIHzKtMwp"
      }
    }
  ]
}
