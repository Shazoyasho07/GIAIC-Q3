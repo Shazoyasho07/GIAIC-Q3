{
  "nbformat": 4,
  "nbformat_minor": 0,
  "metadata": {
    "colab": {
      "provenance": []
    },
    "kernelspec": {
      "name": "python3",
      "display_name": "Python 3"
    },
    "language_info": {
      "name": "python"
    }
  },
  "cells": [
    {
      "cell_type": "code",
      "execution_count": null,
      "metadata": {
        "colab": {
          "base_uri": "https://localhost:8080/"
        },
        "id": "AtTj6kSIgwjH",
        "outputId": "7a7a918c-7559-4675-8810-dd41dcf91474"
      },
      "outputs": [
        {
          "output_type": "stream",
          "name": "stdout",
          "text": [
            "Hello World !\n"
          ]
        }
      ],
      "source": [
        "print(\"Hello World !\")"
      ]
    },
    {
      "cell_type": "code",
      "source": [
        "data_type: float = 3 - 2j\n",
        "\n",
        "print(data_type.real)\n",
        "print(data_type.imag)\n",
        "\n",
        "print(data_type.conjugate())\n",
        "\n",
        "# print(type(data_type))"
      ],
      "metadata": {
        "colab": {
          "base_uri": "https://localhost:8080/"
        },
        "id": "2u-xgocZk1FL",
        "outputId": "8e76b27c-b311-46f2-bca9-977d40525405"
      },
      "execution_count": null,
      "outputs": [
        {
          "output_type": "stream",
          "name": "stdout",
          "text": [
            "3.0\n",
            "-2.0\n",
            "(3+2j)\n"
          ]
        }
      ]
    },
    {
      "cell_type": "code",
      "source": [
        "num_range: range = range(1, 10, 2) # range(start, stop, step)\n",
        "print(type(num_range), num_range.stop)  # <class 'range'>"
      ],
      "metadata": {
        "colab": {
          "base_uri": "https://localhost:8080/"
        },
        "id": "ER6G4vEAoVc7",
        "outputId": "a425d932-2679-4384-ec81-5174b8ae0e3a"
      },
      "execution_count": null,
      "outputs": [
        {
          "output_type": "stream",
          "name": "stdout",
          "text": [
            "<class 'range'> 10\n"
          ]
        }
      ]
    },
    {
      "cell_type": "code",
      "source": [
        "set_type: set = {\"Biryani\", \"Nihari\", \"Haleem\", \"Biryani\"}\n",
        "set_type.add(\"Karahi\")\n",
        "set_type.remove(\"Karahi\")\n",
        "print(set_type)\n",
        "\n",
        "frozenset_type: frozenset = frozenset(set_type)\n",
        "print(frozenset_type)\n",
        "\n",
        "frozenset_type.remove(\"Nihari\")"
      ],
      "metadata": {
        "colab": {
          "base_uri": "https://localhost:8080/",
          "height": 211
        },
        "id": "QIeADGdVqKTy",
        "outputId": "92622822-8619-4072-b699-8a06570f4691"
      },
      "execution_count": null,
      "outputs": [
        {
          "output_type": "stream",
          "name": "stdout",
          "text": [
            "{'Haleem', 'Nihari', 'Biryani'}\n",
            "frozenset({'Haleem', 'Nihari', 'Biryani'})\n"
          ]
        },
        {
          "output_type": "error",
          "ename": "AttributeError",
          "evalue": "'frozenset' object has no attribute 'remove'",
          "traceback": [
            "\u001b[0;31m---------------------------------------------------------------------------\u001b[0m",
            "\u001b[0;31mAttributeError\u001b[0m                            Traceback (most recent call last)",
            "\u001b[0;32m<ipython-input-27-cb8bae604333>\u001b[0m in \u001b[0;36m<cell line: 0>\u001b[0;34m()\u001b[0m\n\u001b[1;32m      7\u001b[0m \u001b[0mprint\u001b[0m\u001b[0;34m(\u001b[0m\u001b[0mfrozenset_type\u001b[0m\u001b[0;34m)\u001b[0m\u001b[0;34m\u001b[0m\u001b[0;34m\u001b[0m\u001b[0m\n\u001b[1;32m      8\u001b[0m \u001b[0;34m\u001b[0m\u001b[0m\n\u001b[0;32m----> 9\u001b[0;31m \u001b[0mfrozenset_type\u001b[0m\u001b[0;34m.\u001b[0m\u001b[0mremove\u001b[0m\u001b[0;34m(\u001b[0m\u001b[0;34m\"Nihari\"\u001b[0m\u001b[0;34m)\u001b[0m\u001b[0;34m\u001b[0m\u001b[0;34m\u001b[0m\u001b[0m\n\u001b[0m",
            "\u001b[0;31mAttributeError\u001b[0m: 'frozenset' object has no attribute 'remove'"
          ]
        }
      ]
    },
    {
      "cell_type": "code",
      "source": [
        "my_string: str = r'Hello\\t,\\n Worl\\\\d!'\n",
        "print(my_string)"
      ],
      "metadata": {
        "colab": {
          "base_uri": "https://localhost:8080/"
        },
        "id": "_6bqy9m9v42J",
        "outputId": "a56f9f00-9553-4f15-ff6d-c7fe97990fa2"
      },
      "execution_count": null,
      "outputs": [
        {
          "output_type": "stream",
          "name": "stdout",
          "text": [
            "Hello\\t,\\n Worl\\\\d!\n"
          ]
        }
      ]
    },
    {
      "cell_type": "code",
      "source": [
        "join_char = \"/\".join([\"Biryani\", \"Nihari\", \"Haleem\"])\n",
        "print(join_char)"
      ],
      "metadata": {
        "colab": {
          "base_uri": "https://localhost:8080/"
        },
        "id": "QWrVimJ9xht6",
        "outputId": "c5e92c4f-2d54-4405-bcb3-755af369d2a7"
      },
      "execution_count": null,
      "outputs": [
        {
          "output_type": "stream",
          "name": "stdout",
          "text": [
            "Biryani/Nihari/Haleem\n"
          ]
        }
      ]
    },
    {
      "cell_type": "code",
      "source": [
        "age: int = 17\n",
        "is_student: bool = True\n",
        "\n",
        "# Check if age is greater than 18 AND is_student is True\n",
        "if age >= 18 and is_student:\n",
        "    print(\"You are eligible for a student discount.\")\n",
        "else:\n",
        "    print(\"Better luck next time !\")"
      ],
      "metadata": {
        "colab": {
          "base_uri": "https://localhost:8080/"
        },
        "id": "WjyVVyUc0GPi",
        "outputId": "fdfaa7e2-33a6-45af-db33-e657b8c0ec5a"
      },
      "execution_count": null,
      "outputs": [
        {
          "output_type": "stream",
          "name": "stdout",
          "text": [
            "Better luck next time !\n"
          ]
        }
      ]
    },
    {
      "cell_type": "code",
      "source": [
        "try:\n",
        "  print(\"Before\")\n",
        "\n",
        "  num = \"PIZZA\"/0\n",
        "except ZeroDivisionError:\n",
        "  print(\"0 se divide nh hota\")\n",
        "except Exception as e:\n",
        "  print(\"Type error koi number dalo bhai !\")\n",
        "else:\n",
        "  print(num)\n",
        "finally:\n",
        "  print(\"har waqt chale ga !\")"
      ],
      "metadata": {
        "colab": {
          "base_uri": "https://localhost:8080/"
        },
        "id": "DX9MhAY_1Me1",
        "outputId": "03f2965e-d459-4ea9-9a24-455f679dc840"
      },
      "execution_count": null,
      "outputs": [
        {
          "output_type": "stream",
          "name": "stdout",
          "text": [
            "Before\n",
            "Type error koi number dalo bhai !\n",
            "har waqt chale ga !\n"
          ]
        }
      ]
    }
  ]
}
